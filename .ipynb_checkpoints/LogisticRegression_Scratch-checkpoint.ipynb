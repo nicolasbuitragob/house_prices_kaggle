{
 "cells": [
  {
   "cell_type": "code",
   "execution_count": 43,
   "metadata": {},
   "outputs": [],
   "source": [
    "import numpy as np\n",
    "import random\n",
    "import matplotlib.pyplot as plt"
   ]
  },
  {
   "cell_type": "code",
   "execution_count": 44,
   "metadata": {},
   "outputs": [],
   "source": [
    "A = np.random.randint(5,size=(50,10))\n",
    "theta = np.zeros((10,1))\n",
    "y_zeros = np.zeros((25,1))\n",
    "y_ones = np.ones((25,1))"
   ]
  },
  {
   "cell_type": "code",
   "execution_count": 45,
   "metadata": {},
   "outputs": [],
   "source": [
    "random.seed(0)\n",
    "y = np.concatenate((y_zeros,y_ones))\n",
    "random.shuffle(y)\n",
    "m = len(y)"
   ]
  },
  {
   "cell_type": "code",
   "execution_count": 46,
   "metadata": {},
   "outputs": [],
   "source": [
    "def sigmoid(x):\n",
    "    z = 1/(1 + np.exp(-x)) \n",
    "    return z"
   ]
  },
  {
   "cell_type": "code",
   "execution_count": 50,
   "metadata": {},
   "outputs": [
    {
     "data": {
      "text/plain": [
       "array([[0.20404542],\n",
       "       [0.14927443],\n",
       "       [0.22712536],\n",
       "       [0.17318537],\n",
       "       [0.35507319],\n",
       "       [0.09337198],\n",
       "       [0.23946538],\n",
       "       [0.11068295],\n",
       "       [0.29898052],\n",
       "       [0.10691722],\n",
       "       [0.19774305],\n",
       "       [0.18582924],\n",
       "       [0.15436338],\n",
       "       [0.21627536],\n",
       "       [0.15440356],\n",
       "       [0.10196206],\n",
       "       [0.24482544],\n",
       "       [0.2023147 ],\n",
       "       [0.18521064],\n",
       "       [0.19301588],\n",
       "       [0.17830182],\n",
       "       [0.20868425],\n",
       "       [0.2527404 ],\n",
       "       [0.07312606],\n",
       "       [0.33987681],\n",
       "       [0.19630283],\n",
       "       [0.10012498],\n",
       "       [0.14996149],\n",
       "       [0.0729991 ],\n",
       "       [0.20882238],\n",
       "       [0.10821053],\n",
       "       [0.08743822],\n",
       "       [0.1044656 ],\n",
       "       [0.10634527],\n",
       "       [0.13820631],\n",
       "       [0.32513689],\n",
       "       [0.13878828],\n",
       "       [0.21239295],\n",
       "       [0.35228196],\n",
       "       [0.34824549],\n",
       "       [0.47949367],\n",
       "       [0.17915629],\n",
       "       [0.10729323],\n",
       "       [0.35328625],\n",
       "       [0.33554598],\n",
       "       [0.14644889],\n",
       "       [0.15166832],\n",
       "       [0.33827922],\n",
       "       [0.51384564],\n",
       "       [0.07456781]])"
      ]
     },
     "execution_count": 50,
     "metadata": {},
     "output_type": "execute_result"
    }
   ],
   "source": [
    "alpha = 0.01\n",
    "cost = []\n",
    "for i in range(1,100):\n",
    "    \n",
    "    h = np.dot(A,theta)\n",
    "    z = sigmoid(h)\n",
    "    m = len(y)\n",
    "    first = -np.dot(y.T,np.log(z))\n",
    "    second = np.dot((1 - y).T,(np.log(1-z)))\n",
    "    J = (1/m) *(first - second)\n",
    "    cost.append(J[0][0])\n",
    "    theta = theta - ((alpha/m)*np.dot(A.T,(z-y)))\n"
   ]
  },
  {
   "cell_type": "code",
   "execution_count": 48,
   "metadata": {},
   "outputs": [
    {
     "data": {
      "image/png": "[encoded data removed]",
      "text/plain": [
       "<Figure size 432x288 with 1 Axes>"
      ]
     },
     "metadata": {
      "needs_background": "light"
     },
     "output_type": "display_data"
    }
   ],
   "source": [
    "plt.plot(cost)\n",
    "plt.show()"
   ]
  },
  {
   "cell_type": "code",
   "execution_count": 59,
   "metadata": {},
   "outputs": [
    {
     "data": {
      "text/plain": [
       "array([[0.20404542],\n",
       "       [0.14927443],\n",
       "       [0.22712536],\n",
       "       [0.17318537],\n",
       "       [0.35507319],\n",
       "       [0.09337198],\n",
       "       [0.23946538],\n",
       "       [0.11068295],\n",
       "       [0.29898052],\n",
       "       [0.10691722],\n",
       "       [0.19774305],\n",
       "       [0.18582924],\n",
       "       [0.15436338],\n",
       "       [0.21627536],\n",
       "       [0.15440356],\n",
       "       [0.10196206],\n",
       "       [0.24482544],\n",
       "       [0.2023147 ],\n",
       "       [0.18521064],\n",
       "       [0.19301588],\n",
       "       [0.17830182],\n",
       "       [0.20868425],\n",
       "       [0.2527404 ],\n",
       "       [0.07312606],\n",
       "       [0.33987681],\n",
       "       [0.19630283],\n",
       "       [0.10012498],\n",
       "       [0.14996149],\n",
       "       [0.0729991 ],\n",
       "       [0.20882238],\n",
       "       [0.10821053],\n",
       "       [0.08743822],\n",
       "       [0.1044656 ],\n",
       "       [0.10634527],\n",
       "       [0.13820631],\n",
       "       [0.32513689],\n",
       "       [0.13878828],\n",
       "       [0.21239295],\n",
       "       [0.35228196],\n",
       "       [0.34824549],\n",
       "       [0.47949367],\n",
       "       [0.17915629],\n",
       "       [0.10729323],\n",
       "       [0.35328625],\n",
       "       [0.33554598],\n",
       "       [0.14644889],\n",
       "       [0.15166832],\n",
       "       [0.33827922],\n",
       "       [0.51384564],\n",
       "       [0.07456781]])"
      ]
     },
     "execution_count": 59,
     "metadata": {},
     "output_type": "execute_result"
    }
   ],
   "source": [
    "z"
   ]
  },
  {
   "cell_type": "code",
   "execution_count": 58,
   "metadata": {},
   "outputs": [
    {
     "data": {
      "text/plain": [
       "array([[False],\n",
       "       [False],\n",
       "       [False],\n",
       "       [False],\n",
       "       [False],\n",
       "       [False],\n",
       "       [False],\n",
       "       [False],\n",
       "       [False],\n",
       "       [False],\n",
       "       [False],\n",
       "       [False],\n",
       "       [False],\n",
       "       [False],\n",
       "       [False],\n",
       "       [False],\n",
       "       [False],\n",
       "       [False],\n",
       "       [False],\n",
       "       [False],\n",
       "       [False],\n",
       "       [False],\n",
       "       [False],\n",
       "       [False],\n",
       "       [False],\n",
       "       [False],\n",
       "       [False],\n",
       "       [False],\n",
       "       [False],\n",
       "       [False],\n",
       "       [False],\n",
       "       [False],\n",
       "       [False],\n",
       "       [False],\n",
       "       [False],\n",
       "       [False],\n",
       "       [False],\n",
       "       [False],\n",
       "       [False],\n",
       "       [False],\n",
       "       [False],\n",
       "       [False],\n",
       "       [False],\n",
       "       [False],\n",
       "       [False],\n",
       "       [False],\n",
       "       [False],\n",
       "       [False],\n",
       "       [ True],\n",
       "       [False]])"
      ]
     },
     "execution_count": 58,
     "metadata": {},
     "output_type": "execute_result"
    }
   ],
   "source": []
  },
  {
   "cell_type": "code",
   "execution_count": null,
   "metadata": {},
   "outputs": [],
   "source": []
  }
 ],
 "metadata": {
  "kernelspec": {
   "display_name": "Python 3",
   "language": "python",
   "name": "python3"
  },
  "language_info": {
   "codemirror_mode": {
    "name": "ipython",
    "version": 3
   },
   "file_extension": ".py",
   "mimetype": "text/x-python",
   "name": "python",
   "nbconvert_exporter": "python",
   "pygments_lexer": "ipython3",
   "version": "3.8.5"
  }
 },
 "nbformat": 4,
 "nbformat_minor": 4
}
