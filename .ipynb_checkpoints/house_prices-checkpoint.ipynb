{
 "cells": [
  {
   "cell_type": "code",
   "execution_count": 1,
   "metadata": {},
   "outputs": [],
   "source": [
    "import pandas as pd\n",
    "import matplotlib.pyplot as plt\n",
    "import numpy as np\n",
    "import seaborn as sns"
   ]
  },
  {
   "cell_type": "code",
   "execution_count": 2,
   "metadata": {},
   "outputs": [],
   "source": [
    "#Load data\n",
    "train = pd.read_csv('train.csv')\n",
    "y = train['SalePrice']\n",
    "train.drop(['Id','SalePrice'],axis = 1,inplace = True)\n",
    "test = pd.read_csv('test.csv')"
   ]
  },
  {
   "cell_type": "code",
   "execution_count": 121,
   "metadata": {},
   "outputs": [],
   "source": [
    "#check where are Nan Values\n",
    "def nan_cols(df):\n",
    "    columns_nan = df.isna().sum()\n",
    "    nan_val = columns_nan.where(columns_nan > 0).dropna()\n",
    "    return list(nan_val.index)\n",
    "nan_cols = nan_cols(train)"
   ]
  },
  {
   "cell_type": "code",
   "execution_count": 26,
   "metadata": {},
   "outputs": [],
   "source": [
    "## INITIAL EDA\n",
    "#Separate categorical and non categorical data and get where are the nan values in each one\n",
    "def separate_data(df):\n",
    "    categorical = [num for num in df.columns if df.dtypes[num] == 'object']\n",
    "    numerical = [num for num in df.columns if df.dtypes[num] != 'object']\n",
    "    \n",
    "    nan_categorical = [cat for cat in nan_cols if df.dtypes[cat] == 'object']\n",
    "    nan_numerical = [na for na in nan_cols if df.dtypes[na] != 'object']\n",
    "    return categorical,numerical, nan_numerical,nan_categorical\n",
    "categorical, numerical, nan_numerical,nan_categorical = separate_data(train)"
   ]
  },
  {
   "cell_type": "code",
   "execution_count": 317,
   "metadata": {},
   "outputs": [],
   "source": [
    "##Plot histogram, boxplot and scatter plot(column and house price)\n",
    "def numerical_plot(df,numerical):\n",
    "    for col in numerical:\n",
    "        plt.figure(figsize = (15,4))\n",
    "        plt.subplot(131)\n",
    "        sns.histplot(df[col])\n",
    "        plt.subplot(132)\n",
    "        sns.boxplot(x = df[col])\n",
    "        plt.subplot(133)\n",
    "        sns.scatterplot(x=df[col],y = y)\n",
    "        plt.title(col)\n",
    "        plt.show() \n"
   ]
  },
  {
   "cell_type": "code",
   "execution_count": 318,
   "metadata": {},
   "outputs": [],
   "source": [
    "def categorical_plot(df,categorical):   \n",
    "    for col in categorical:\n",
    "        data = df[col].value_counts()\n",
    "        for na in nan_categorical:\n",
    "            if col == na:\n",
    "                no_val=df[na].isna().value_counts().rename({True: 'Na value', False : '0'})                \n",
    "                data = data.append(no_val)\n",
    "                data = data.drop('0')\n",
    "        data.plot.bar()\n",
    "        plt.title(col)\n",
    "        plt.show()\n",
    "\n"
   ]
  },
  {
   "cell_type": "code",
   "execution_count": null,
   "metadata": {},
   "outputs": [],
   "source": []
  },
  {
   "cell_type": "code",
   "execution_count": null,
   "metadata": {},
   "outputs": [],
   "source": []
  },
  {
   "cell_type": "code",
   "execution_count": null,
   "metadata": {},
   "outputs": [],
   "source": []
  },
  {
   "cell_type": "code",
   "execution_count": null,
   "metadata": {},
   "outputs": [],
   "source": []
  },
  {
   "cell_type": "code",
   "execution_count": null,
   "metadata": {},
   "outputs": [],
   "source": []
  }
 ],
 "metadata": {
  "kernelspec": {
   "display_name": "Python 3",
   "language": "python",
   "name": "python3"
  },
  "language_info": {
   "codemirror_mode": {
    "name": "ipython",
    "version": 3
   },
   "file_extension": ".py",
   "mimetype": "text/x-python",
   "name": "python",
   "nbconvert_exporter": "python",
   "pygments_lexer": "ipython3",
   "version": "3.8.5"
  }
 },
 "nbformat": 4,
 "nbformat_minor": 4
}
